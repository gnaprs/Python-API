{
 "metadata": {
  "language_info": {
   "codemirror_mode": {
    "name": "ipython",
    "version": 3
   },
   "file_extension": ".py",
   "mimetype": "text/x-python",
   "name": "python",
   "nbconvert_exporter": "python",
   "pygments_lexer": "ipython3",
   "version": "3.7.7-final"
  },
  "orig_nbformat": 2,
  "kernelspec": {
   "name": "python3",
   "display_name": "Python 3"
  }
 },
 "nbformat": 4,
 "nbformat_minor": 2,
 "cells": [
  {
   "cell_type": "code",
   "execution_count": 10,
   "metadata": {},
   "outputs": [
    {
     "output_type": "stream",
     "name": "stdout",
     "text": [
      "0 CLC  –  ME\n1 SHINee  –  Sherlock (Clue + Note)\n2 NU'EST  –  FACE\n3 Song Ji Eun  –  Crazy\n4 Brown Eyed Girls  –  Sixth Sense\n5 SHINee  –  LUCIFER\n6 Secret  –  Magic\n7 miss A  –  Bad Girl Good Girl\n8 VIXX  –  Shangri-La\n9 2AM  –  죽어도 못 보내\n10 CLC  –  HELICOPTER\n11 MINO  –  Run away\n12 TWICE  –  What is Love\n13 TWICE  –  CHEER UP\n14 suggi  –  astroboy.\n15 Samm Henshaw  –  The World Is Mine\n16 Mika Nakashima  –  僕が死のうと思ったのは\n17 Mika Nakashima  –  僕が死のうと思ったのは\n18 SEVENTEEN  –  Pinwheel\n19 Davichi  –  Unspoken Words\n"
     ]
    }
   ],
   "source": [
    "import spotipy\n",
    "from spotipy.oauth2 import SpotifyOAuth\n",
    "from credentials import SPOTIPY_CLIENT_ID, SPOTIPY_CLIENT_SECRET, SPOTIPY_REDIRECT_URI\n",
    "\n",
    "scope = \"user-library-read\"\n",
    "\n",
    "sp = spotipy.Spotify(auth_manager=SpotifyOAuth(scope=scope, client_id = SPOTIPY_CLIENT_ID, client_secret = SPOTIPY_CLIENT_SECRET, redirect_uri = SPOTIPY_REDIRECT_URI))\n",
    "\n",
    "results = sp.current_user_saved_tracks()\n",
    "for idx, item in enumerate(results['items']):\n",
    "    track = item['track']\n",
    "    print(idx, track['artists'][0]['name'], \" – \", track['name'])"
   ]
  },
  {
   "cell_type": "code",
   "execution_count": null,
   "metadata": {},
   "outputs": [],
   "source": []
  }
 ]
}