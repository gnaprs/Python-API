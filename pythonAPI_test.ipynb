{
 "cells": [
  {
   "cell_type": "code",
   "execution_count": 2,
   "metadata": {},
   "outputs": [
    {
     "output_type": "stream",
     "name": "stdout",
     "text": [
      "404\n"
     ]
    }
   ],
   "source": [
    "# conda install requests\n",
    "import requests\n",
    "\n",
    "# GET request\n",
    "response = requests.get(\"http://api.open-notify.org/this-api-doesnt-exist\") \n",
    "print(response.status_code) #endpoint doesnt exist"
   ]
  },
  {
   "source": [
    "## Status Codes\n",
    "\n",
    "- `200`: Everything went okay, and the result has been returned (if any).\n",
    "- `301`: The server is redirecting you to a different endpoint. This can happen when a company switches domain names, or an endpoint name is changed.\n",
    "- `400`: The server thinks you made a bad request. This can happen when you don’t send along the right data, among other things.\n",
    "- `401`: The server thinks you’re not authenticated. Many APIs require login credentials, so this happens when you don’t send the right credentials to access an API.\n",
    "- `403`: The resource you’re trying to access is forbidden: you don’t have the right permissions to see it.\n",
    "- `404`: The resource you tried to access wasn’t found on the server.\n",
    "- `503`: The server is not ready to handle the request. "
   ],
   "cell_type": "markdown",
   "metadata": {}
  },
  {
   "cell_type": "code",
   "execution_count": 3,
   "metadata": {},
   "outputs": [
    {
     "output_type": "stream",
     "name": "stdout",
     "text": [
      "200\n"
     ]
    }
   ],
   "source": [
    "# using Open Notify API (http://open-notify.org/)\n",
    "\n",
    "# return data about astronauts in space\n",
    "response = requests.get(\"http://api.open-notify.org/astros.json\")\n",
    "print(response.status_code)"
   ]
  },
  {
   "cell_type": "code",
   "execution_count": 4,
   "metadata": {},
   "outputs": [
    {
     "output_type": "stream",
     "name": "stdout",
     "text": [
      "{\n    \"message\": \"success\",\n    \"number\": 7,\n    \"people\": [\n        {\n            \"craft\": \"ISS\",\n            \"name\": \"Sergey Ryzhikov\"\n        },\n        {\n            \"craft\": \"ISS\",\n            \"name\": \"Kate Rubins\"\n        },\n        {\n            \"craft\": \"ISS\",\n            \"name\": \"Sergey Kud-Sverchkov\"\n        },\n        {\n            \"craft\": \"ISS\",\n            \"name\": \"Mike Hopkins\"\n        },\n        {\n            \"craft\": \"ISS\",\n            \"name\": \"Victor Glover\"\n        },\n        {\n            \"craft\": \"ISS\",\n            \"name\": \"Shannon Walker\"\n        },\n        {\n            \"craft\": \"ISS\",\n            \"name\": \"Soichi Noguchi\"\n        }\n    ]\n}\n"
     ]
    }
   ],
   "source": [
    "import json\n",
    "\n",
    "def jprint(obj):\n",
    "    # create a formatted string of the Python JSON object\n",
    "    text = json.dumps(obj, sort_keys=True, indent=4)\n",
    "    print(text)\n",
    "\n",
    "jprint(response.json())"
   ]
  },
  {
   "cell_type": "code",
   "execution_count": 5,
   "metadata": {},
   "outputs": [
    {
     "output_type": "stream",
     "name": "stdout",
     "text": [
      "{\n    \"message\": \"success\",\n    \"request\": {\n        \"altitude\": 100,\n        \"datetime\": 1607499033,\n        \"latitude\": 40.71,\n        \"longitude\": -74.0,\n        \"passes\": 5\n    },\n    \"response\": [\n        {\n            \"duration\": 594,\n            \"risetime\": 1607524821\n        },\n        {\n            \"duration\": 648,\n            \"risetime\": 1607530588\n        },\n        {\n            \"duration\": 581,\n            \"risetime\": 1607536467\n        },\n        {\n            \"duration\": 569,\n            \"risetime\": 1607542344\n        },\n        {\n            \"duration\": 638,\n            \"risetime\": 1607548163\n        }\n    ]\n}\n"
     ]
    }
   ],
   "source": [
    "parameters = {\n",
    "    \"lat\": 40.71,\n",
    "    \"lon\": -74\n",
    "}\n",
    "\n",
    "response = requests.get(\"http://api.open-notify.org/iss-pass.json\", params=parameters)  \n",
    "jprint(response.json())"
   ]
  },
  {
   "cell_type": "code",
   "execution_count": 8,
   "metadata": {},
   "outputs": [
    {
     "output_type": "stream",
     "name": "stdout",
     "text": [
      "[\n    {\n        \"duration\": 594,\n        \"risetime\": 1607524821\n    },\n    {\n        \"duration\": 648,\n        \"risetime\": 1607530588\n    },\n    {\n        \"duration\": 581,\n        \"risetime\": 1607536467\n    },\n    {\n        \"duration\": 569,\n        \"risetime\": 1607542344\n    },\n    {\n        \"duration\": 638,\n        \"risetime\": 1607548163\n    }\n]\n"
     ]
    }
   ],
   "source": [
    "pass_times = response.json()['response']\n",
    "jprint(pass_times)"
   ]
  },
  {
   "cell_type": "code",
   "execution_count": 11,
   "metadata": {},
   "outputs": [
    {
     "output_type": "stream",
     "name": "stdout",
     "text": [
      "[1607524821, 1607530588, 1607536467, 1607542344, 1607548163]\n2020-12-09 22:40:21\n2020-12-10 00:16:28\n2020-12-10 01:54:27\n2020-12-10 03:32:24\n2020-12-10 05:09:23\n"
     ]
    }
   ],
   "source": [
    "risetimes = []\n",
    "\n",
    "for d in pass_times:\n",
    "    time = d['risetime']\n",
    "    risetimes.append(time)\n",
    "\n",
    "print(risetimes)\n",
    "\n",
    "from datetime import datetime\n",
    "\n",
    "times = []\n",
    "\n",
    "for rt in risetimes:\n",
    "    time = datetime.fromtimestamp(rt)\n",
    "    times.append(time)\n",
    "    print(time)"
   ]
  }
 ],
 "metadata": {
  "kernelspec": {
   "display_name": "Python 3",
   "language": "python",
   "name": "python3"
  },
  "language_info": {
   "codemirror_mode": {
    "name": "ipython",
    "version": 3
   },
   "file_extension": ".py",
   "mimetype": "text/x-python",
   "name": "python",
   "nbconvert_exporter": "python",
   "pygments_lexer": "ipython3",
   "version": "3.7.7-final"
  }
 },
 "nbformat": 4,
 "nbformat_minor": 4
}