{
 "cells": [
  {
   "cell_type": "code",
   "execution_count": 2,
   "metadata": {},
   "outputs": [
    {
     "output_type": "stream",
     "name": "stdout",
     "text": [
      "404\n"
     ]
    }
   ],
   "source": [
    "# conda install requests\n",
    "import requests\n",
    "\n",
    "# GET request\n",
    "response = requests.get(\"http://api.open-notify.org/this-api-doesnt-exist\") \n",
    "print(response.status_code) #endpoint doesnt exist"
   ]
  },
  {
   "source": [
    "## Status Codes\n",
    "\n",
    "- `200`: Everything went okay, and the result has been returned (if any).\n",
    "- `301`: The server is redirecting you to a different endpoint. This can happen when a company switches domain names, or an endpoint name is changed.\n",
    "- `400`: The server thinks you made a bad request. This can happen when you don’t send along the right data, among other things.\n",
    "- `401`: The server thinks you’re not authenticated. Many APIs require login credentials, so this happens when you don’t send the right credentials to access an API.\n",
    "- `403`: The resource you’re trying to access is forbidden: you don’t have the right permissions to see it.\n",
    "- `404`: The resource you tried to access wasn’t found on the server.\n",
    "- `503`: The server is not ready to handle the request. "
   ],
   "cell_type": "markdown",
   "metadata": {}
  },
  {
   "cell_type": "code",
   "execution_count": null,
   "metadata": {},
   "outputs": [],
   "source": [
    "# using Open Notify API (http://open-notify.org/)\n",
    "\n",
    "# return data about astronauts in space\n",
    "response = requests.get(\"http://api.open-notify.org/astros.json\")\n",
    "print(response.status_code)"
   ]
  }
 ],
 "metadata": {
  "kernelspec": {
   "display_name": "Python 3",
   "language": "python",
   "name": "python3"
  },
  "language_info": {
   "codemirror_mode": {
    "name": "ipython",
    "version": 3
   },
   "file_extension": ".py",
   "mimetype": "text/x-python",
   "name": "python",
   "nbconvert_exporter": "python",
   "pygments_lexer": "ipython3",
   "version": "3.7.7-final"
  }
 },
 "nbformat": 4,
 "nbformat_minor": 4
}